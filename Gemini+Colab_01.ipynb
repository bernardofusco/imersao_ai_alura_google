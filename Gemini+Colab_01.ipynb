{
  "nbformat": 4,
  "nbformat_minor": 0,
  "metadata": {
    "colab": {
      "provenance": [],
      "authorship_tag": "ABX9TyP7XIBr7T7+0eIx5w6aWZe1",
      "include_colab_link": true
    },
    "kernelspec": {
      "name": "python3",
      "display_name": "Python 3"
    },
    "language_info": {
      "name": "python"
    }
  },
  "cells": [
    {
      "cell_type": "markdown",
      "metadata": {
        "id": "view-in-github",
        "colab_type": "text"
      },
      "source": [
        "<a href=\"https://colab.research.google.com/github/bernardofusco/imersao_ai_alura_google/blob/main/Gemini%2BColab_01.ipynb\" target=\"_parent\"><img src=\"https://colab.research.google.com/assets/colab-badge.svg\" alt=\"Open In Colab\"/></a>"
      ]
    },
    {
      "cell_type": "markdown",
      "source": [
        "Instalando o SDK do Google"
      ],
      "metadata": {
        "id": "R2WbUVbNvuSW"
      }
    },
    {
      "cell_type": "code",
      "execution_count": null,
      "metadata": {
        "id": "GiV4Rpw6rsvZ"
      },
      "outputs": [],
      "source": [
        "!pip install -q -U google-generativeai"
      ]
    },
    {
      "cell_type": "markdown",
      "source": [
        "Configurações da API Key"
      ],
      "metadata": {
        "id": "knmGw7gNwFNs"
      }
    },
    {
      "cell_type": "code",
      "source": [
        "import google.generativeai as genai\n",
        "from google.colab import userdata\n",
        "api_key = userdata.get('SECRET_KEY')\n",
        "genai.configure(api_key=api_key)"
      ],
      "metadata": {
        "id": "EnbI4fN2wH4L"
      },
      "execution_count": null,
      "outputs": []
    },
    {
      "cell_type": "markdown",
      "source": [
        "Listar os Modelos disponíveis."
      ],
      "metadata": {
        "id": "c0idAWQHwU_V"
      }
    },
    {
      "cell_type": "code",
      "source": [
        "for m in genai.list_models():\n",
        "  if 'generateContent' in m.supported_generation_methods:\n",
        "    print(m.name)"
      ],
      "metadata": {
        "colab": {
          "base_uri": "https://localhost:8080/",
          "height": 139
        },
        "id": "Re9blXvjwYNQ",
        "outputId": "29e7cb2d-a4a1-451c-ba41-eb7c636c0b64"
      },
      "execution_count": null,
      "outputs": [
        {
          "output_type": "stream",
          "name": "stdout",
          "text": [
            "models/gemini-1.0-pro\n",
            "models/gemini-1.0-pro-001\n",
            "models/gemini-1.0-pro-latest\n",
            "models/gemini-1.0-pro-vision-latest\n",
            "models/gemini-1.5-pro-latest\n",
            "models/gemini-pro\n",
            "models/gemini-pro-vision\n"
          ]
        }
      ]
    },
    {
      "cell_type": "code",
      "source": [
        "generation_config = {\n",
        "    \"candidate_count\" : 1,\n",
        "    \"temperature\" : 0.5\n",
        "}"
      ],
      "metadata": {
        "id": "1HYw2dNiyRxX"
      },
      "execution_count": null,
      "outputs": []
    },
    {
      "cell_type": "code",
      "source": [
        "safety_settings={\n",
        "    \"HARASSMENT\" : \"BLOCK_NONE\",\n",
        "    \"HATE\" : \"BLOCK_NONE\",\n",
        "    \"SEXUAL\" : \"BLOCK_NONE\",\n",
        "    \"DANGEROUS\" : \"BLOCK_NONE\"\n",
        "}"
      ],
      "metadata": {
        "id": "f4mM2cDry2dP"
      },
      "execution_count": null,
      "outputs": []
    },
    {
      "cell_type": "markdown",
      "source": [
        "Inicializar o Modelo"
      ],
      "metadata": {
        "id": "mRsqfbhC0DKR"
      }
    },
    {
      "cell_type": "code",
      "source": [
        "model = genai.GenerativeModel(model_name=\"gemini-1.0-pro\",\n",
        "                              generation_config = generation_config,\n",
        "                              safety_settings = safety_settings )"
      ],
      "metadata": {
        "id": "-qvRHzdO0H-h"
      },
      "execution_count": null,
      "outputs": []
    },
    {
      "cell_type": "code",
      "source": [
        "response = model.generate_content(\"Qual roteiro de estudos devo seguir para me tornar um  profissional da AI do Google\")\n",
        "print(response.text)"
      ],
      "metadata": {
        "colab": {
          "base_uri": "https://localhost:8080/",
          "height": 1000
        },
        "id": "OrQQK1mS0-cw",
        "outputId": "b79a9854-fc80-487c-e7bf-062e58749933"
      },
      "execution_count": null,
      "outputs": [
        {
          "output_type": "stream",
          "name": "stdout",
          "text": [
            "**Roteiro de Estudos para se Tornar um Profissional de IA do Google**\n",
            "\n",
            "**1. Fundamentos da Ciência da Computação**\n",
            "\n",
            "* Estruturas de Dados e Algoritmos\n",
            "* Programação (Python, Java ou C++)\n",
            "* Matemática Discreta\n",
            "* Probabilidade e Estatística\n",
            "* Cálculo\n",
            "\n",
            "**2. Fundamentos da Inteligência Artificial**\n",
            "\n",
            "* Aprendizado de Máquina (Aprendizado Supervisionado, Não Supervisionado e por Reforço)\n",
            "* Processamento de Linguagem Natural\n",
            "* Visão Computacional\n",
            "* Redes Neurais\n",
            "\n",
            "**3. Ferramentas e Tecnologias de IA**\n",
            "\n",
            "* TensorFlow\n",
            "* Keras\n",
            "* PyTorch\n",
            "* Scikit-learn\n",
            "* Pandas\n",
            "* Numpy\n",
            "\n",
            "**4. Projetos Práticos de IA**\n",
            "\n",
            "* Construir modelos de aprendizado de máquina para resolver problemas do mundo real\n",
            "* Desenvolver aplicativos de processamento de linguagem natural\n",
            "* Criar algoritmos de visão computacional\n",
            "* Implantar modelos de IA em sistemas em produção\n",
            "\n",
            "**5. Especialização em uma Área de IA**\n",
            "\n",
            "* Aprendizado Profundo\n",
            "* Aprendizado por Reforço\n",
            "* Processamento de Linguagem Natural\n",
            "* Visão Computacional\n",
            "\n",
            "**6. Certificações e Cursos**\n",
            "\n",
            "* Certificação Profissional do Google em Aprendizado de Máquina\n",
            "* Curso de Especialização em IA do Coursera\n",
            "* Programa de Mestrado em Ciência da Computação com Foco em IA\n",
            "\n",
            "**7. Networking e Desenvolvimento Profissional**\n",
            "\n",
            "* Participar de conferências e meetups de IA\n",
            "* Conectar-se com profissionais da IA no LinkedIn\n",
            "* Ler artigos de pesquisa e acompanhar as últimas tendências em IA\n",
            "\n",
            "**8. Habilidades Complementares**\n",
            "\n",
            "* Comunicação e apresentação\n",
            "* Trabalho em equipe e colaboração\n",
            "* Resolução de problemas e pensamento crítico\n",
            "\n",
            "**Recursos Adicionais**\n",
            "\n",
            "* [Google AI Education](https://ai.google/education/)\n",
            "* [Coursera](https://www.coursera.org/)\n",
            "* [edX](https://www.edx.org/)\n",
            "* [Kaggle](https://www.kaggle.com/)\n",
            "* [Github](https://github.com/)\n"
          ]
        }
      ]
    },
    {
      "cell_type": "code",
      "source": [
        "response = model.generate_content(\"Onde encontrar projetos para treinar estudo sobre AI\")\n",
        "print(response.text)"
      ],
      "metadata": {
        "colab": {
          "base_uri": "https://localhost:8080/",
          "height": 694
        },
        "id": "pa2ZX7Cl1TBD",
        "outputId": "2638165b-cd1f-48d6-b838-bb267aa29b17"
      },
      "execution_count": null,
      "outputs": [
        {
          "output_type": "stream",
          "name": "stdout",
          "text": [
            "**Repositórios de Código e Projetos**\n",
            "\n",
            "* [GitHub](https://github.com/topics/artificial-intelligence)\n",
            "* [Kaggle](https://www.kaggle.com/datasets)\n",
            "* [TensorFlow Hub](https://tfhub.dev/)\n",
            "* [PyTorch Hub](https://pytorch.org/hub/)\n",
            "* [Hugging Face](https://huggingface.co/)\n",
            "\n",
            "**Plataformas de Aprendizagem Online**\n",
            "\n",
            "* [Coursera](https://www.coursera.org/browse/artificial-intelligence)\n",
            "* [edX](https://www.edx.org/learn/artificial-intelligence)\n",
            "* [Udemy](https://www.udemy.com/topic/artificial-intelligence/)\n",
            "* [Google AI Platform](https://cloud.google.com/ai-platform/)\n",
            "* [AWS AI/ML](https://aws.amazon.com/ai/)\n",
            "\n",
            "**Revistas e Publicações**\n",
            "\n",
            "* [Nature Machine Intelligence](https://www.nature.com/nmachintell/)\n",
            "* [IEEE Transactions on Artificial Intelligence](https://ieeexplore.ieee.org/journal/61511)\n",
            "* [Artificial Intelligence Journal](https://www.sciencedirect.com/journal/artificial-intelligence)\n",
            "* [Journal of Machine Learning Research](https://jmlr.org/)\n",
            "* [Proceedings of the International Conference on Machine Learning](https://proceedings.mlr.press/v/)\n",
            "\n",
            "**Conferências e Workshops**\n",
            "\n",
            "* [Conferência Internacional sobre Aprendizado de Máquina](https://icml.cc/)\n",
            "* [Conferência Internacional sobre Inteligência Artificial](https://www.ijcai.org/)\n",
            "* [Conferência Internacional sobre Visão Computacional](https://iccv.ieee.org/)\n",
            "* [Conferência Internacional sobre Processamento de Linguagem Natural](https://www.aclweb.org/)\n",
            "* [Oficina sobre Aprendizado de Máquina para Iniciantes](https://ml4beginners.github.io/)\n",
            "\n",
            "**Outras Fontes**\n",
            "\n",
            "* [AI Stack Exchange](https://ai.stackexchange.com/)\n",
            "* [Reddit /r/ArtificialIntelligence](https://www.reddit.com/r/artificial/)\n",
            "* [Meetup Groups](https://www.meetup.com/topics/artificial-intelligence/)\n",
            "* [Livros e Manuais](https://www.amazon.com/Artificial-Intelligence-Books/s?k=Artificial+Intelligence+Books)\n",
            "* [Blogs e Artigos](https://www.google.com/search?q=artificial+intelligence+projects)\n"
          ]
        }
      ]
    },
    {
      "cell_type": "code",
      "source": [
        "chat = model.start_chat(history=[])"
      ],
      "metadata": {
        "id": "y94L8Yw31kux"
      },
      "execution_count": null,
      "outputs": []
    },
    {
      "cell_type": "code",
      "source": [
        "prompt = input(\"Inicie seu prompt. \")\n",
        "\n",
        "while prompt != \"fim\" :\n",
        "  response = chat.send_message(prompt)\n",
        "  print(\"Resposta: \", response.text, \"\\n\")\n",
        "  prompt = input(\"Digite o novo prompt. \")"
      ],
      "metadata": {
        "colab": {
          "base_uri": "https://localhost:8080/",
          "height": 243
        },
        "id": "bFLQpTeK2GIX",
        "outputId": "a9b99555-e947-4a4f-c590-bd6083cf6912"
      },
      "execution_count": null,
      "outputs": [
        {
          "name": "stdout",
          "output_type": "stream",
          "text": [
            "Inicie seu prompt. Qual é a capital do japão\n",
            "Resposta:  Tóquio \n",
            "\n",
            "Digite o novo prompt. Qual é a comida típica deste país\n",
            "Resposta:  Sushi \n",
            "\n",
            "Digite o novo prompt. qual país tem costume em beber vinho bourdeaux\n",
            "Resposta:  França \n",
            "\n",
            "Digite o novo prompt. e qual a comida tipica para acompanhar este vinho\n",
            "Resposta:  Queijos, carnes vermelhas (como entrecôte ou bife) e pratos à base de cogumelos. \n",
            "\n",
            "Digite o novo prompt. fim\n"
          ]
        }
      ]
    }
  ]
}